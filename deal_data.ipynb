{
 "cells": [
  {
   "cell_type": "code",
   "execution_count": 1,
   "metadata": {},
   "outputs": [],
   "source": [
    "import pandas as pd\n",
    "import numpy as np"
   ]
  },
  {
   "cell_type": "code",
   "execution_count": 2,
   "metadata": {},
   "outputs": [],
   "source": [
    "df_trans = pd.read_csv(\"T3H_TRANS_MODEL_WW_DATA_TABLE.csv\")"
   ]
  },
  {
   "cell_type": "code",
   "execution_count": 7,
   "metadata": {},
   "outputs": [
    {
     "data": {
      "text/html": [
       "<div>\n",
       "<style scoped>\n",
       "    .dataframe tbody tr th:only-of-type {\n",
       "        vertical-align: middle;\n",
       "    }\n",
       "\n",
       "    .dataframe tbody tr th {\n",
       "        vertical-align: top;\n",
       "    }\n",
       "\n",
       "    .dataframe thead th {\n",
       "        text-align: right;\n",
       "    }\n",
       "</style>\n",
       "<table border=\"1\" class=\"dataframe\">\n",
       "  <thead>\n",
       "    <tr style=\"text-align: right;\">\n",
       "      <th></th>\n",
       "      <th>TR_TM</th>\n",
       "      <th>TR_NO</th>\n",
       "      <th>CUST_ID</th>\n",
       "      <th>CUST_TYPE</th>\n",
       "      <th>ACCT_ID</th>\n",
       "      <th>TR_CHNL</th>\n",
       "      <th>TR_CD</th>\n",
       "      <th>IS_CASH</th>\n",
       "      <th>DEBIT_CREDIT</th>\n",
       "      <th>CURR_CD</th>\n",
       "      <th>TR_AMT</th>\n",
       "      <th>TR_BAL_AMT</th>\n",
       "      <th>FUND_USE</th>\n",
       "      <th>OPP_ACCT_ID</th>\n",
       "      <th>OPR_ID</th>\n",
       "      <th>RE_OPR_ID</th>\n",
       "      <th>TR_IPV4</th>\n",
       "    </tr>\n",
       "  </thead>\n",
       "  <tbody>\n",
       "    <tr>\n",
       "      <th>0</th>\n",
       "      <td>15-AUG-18</td>\n",
       "      <td>IN00110117000044</td>\n",
       "      <td>5F8BA8E5C8AFB47B800819100978BD01458B5FD90B72CB...</td>\n",
       "      <td>C</td>\n",
       "      <td>F730494CEF116A5BD34874CF25218FAFCEBC190D002DCA...</td>\n",
       "      <td>11</td>\n",
       "      <td>9999</td>\n",
       "      <td>1</td>\n",
       "      <td>D</td>\n",
       "      <td>CNY</td>\n",
       "      <td>6304.40</td>\n",
       "      <td>33.66</td>\n",
       "      <td>汇兑</td>\n",
       "      <td>E04204F18811DB76E6DE76D969D864C569283272519DE6...</td>\n",
       "      <td>IN0011</td>\n",
       "      <td>NaN</td>\n",
       "      <td>60.10.17.15</td>\n",
       "    </tr>\n",
       "    <tr>\n",
       "      <th>1</th>\n",
       "      <td>15-AUG-18</td>\n",
       "      <td>IN00290117000025</td>\n",
       "      <td>C46FB439131E7E41909ECC96CB3295D9026418DF0DE899...</td>\n",
       "      <td>C</td>\n",
       "      <td>F93A7770CDE4C39B1167DCB14922B623EC4661BC811A4E...</td>\n",
       "      <td>11</td>\n",
       "      <td>9999</td>\n",
       "      <td>1</td>\n",
       "      <td>D</td>\n",
       "      <td>CNY</td>\n",
       "      <td>10620.26</td>\n",
       "      <td>273563.80</td>\n",
       "      <td>汇兑</td>\n",
       "      <td>45825D51B344EFD43A0DFAC412A9EA19E9991854A7C2AF...</td>\n",
       "      <td>IN0029</td>\n",
       "      <td>NaN</td>\n",
       "      <td>101.30.68.215</td>\n",
       "    </tr>\n",
       "    <tr>\n",
       "      <th>2</th>\n",
       "      <td>15-AUG-18</td>\n",
       "      <td>IN00110117000010</td>\n",
       "      <td>BF6609EA78D92B3218A36A3F01E6CFBDA58B7C1278E27A...</td>\n",
       "      <td>C</td>\n",
       "      <td>F93A7770CDE4C39B1167DCB14922B623EC4661BC811A4E...</td>\n",
       "      <td>11</td>\n",
       "      <td>9999</td>\n",
       "      <td>1</td>\n",
       "      <td>D</td>\n",
       "      <td>CNY</td>\n",
       "      <td>100000.00</td>\n",
       "      <td>105426.13</td>\n",
       "      <td>汇兑</td>\n",
       "      <td>CCCC3C9484F024D504DEA87731306516D5D18F9BD9E101...</td>\n",
       "      <td>IN0011</td>\n",
       "      <td>NaN</td>\n",
       "      <td>60.10.17.15</td>\n",
       "    </tr>\n",
       "    <tr>\n",
       "      <th>3</th>\n",
       "      <td>15-AUG-18</td>\n",
       "      <td>IN00170117000076</td>\n",
       "      <td>BF6609EA78D92B3218A36A3F01E6CFBDA58B7C1278E27A...</td>\n",
       "      <td>C</td>\n",
       "      <td>F93A7770CDE4C39B1167DCB14922B623EC4661BC811A4E...</td>\n",
       "      <td>11</td>\n",
       "      <td>9999</td>\n",
       "      <td>1</td>\n",
       "      <td>D</td>\n",
       "      <td>CNY</td>\n",
       "      <td>2520.00</td>\n",
       "      <td>102901.13</td>\n",
       "      <td>汇兑</td>\n",
       "      <td>DA84983937436BBAA2D956779C11FA452EBD72005CDBF8...</td>\n",
       "      <td>IN0017</td>\n",
       "      <td>NaN</td>\n",
       "      <td>60.10.17.15</td>\n",
       "    </tr>\n",
       "    <tr>\n",
       "      <th>4</th>\n",
       "      <td>15-AUG-18</td>\n",
       "      <td>IN00070117000031</td>\n",
       "      <td>58B4DFF7173B9EFB56EC7C08EA0AC20130E4B095E49B7E...</td>\n",
       "      <td>C</td>\n",
       "      <td>2A1B8FEB49D48D0E6C64FA61CC245D6541BA2222DEB60D...</td>\n",
       "      <td>11</td>\n",
       "      <td>9999</td>\n",
       "      <td>1</td>\n",
       "      <td>D</td>\n",
       "      <td>CNY</td>\n",
       "      <td>20719.00</td>\n",
       "      <td>0.05</td>\n",
       "      <td>行内转账</td>\n",
       "      <td>08CF17AD5B7C327949EDB00482C6A1FFE75C22747841FC...</td>\n",
       "      <td>IN0007</td>\n",
       "      <td>NaN</td>\n",
       "      <td>60.10.17.15</td>\n",
       "    </tr>\n",
       "  </tbody>\n",
       "</table>\n",
       "</div>"
      ],
      "text/plain": [
       "       TR_TM             TR_NO  \\\n",
       "0  15-AUG-18  IN00110117000044   \n",
       "1  15-AUG-18  IN00290117000025   \n",
       "2  15-AUG-18  IN00110117000010   \n",
       "3  15-AUG-18  IN00170117000076   \n",
       "4  15-AUG-18  IN00070117000031   \n",
       "\n",
       "                                             CUST_ID CUST_TYPE  \\\n",
       "0  5F8BA8E5C8AFB47B800819100978BD01458B5FD90B72CB...         C   \n",
       "1  C46FB439131E7E41909ECC96CB3295D9026418DF0DE899...         C   \n",
       "2  BF6609EA78D92B3218A36A3F01E6CFBDA58B7C1278E27A...         C   \n",
       "3  BF6609EA78D92B3218A36A3F01E6CFBDA58B7C1278E27A...         C   \n",
       "4  58B4DFF7173B9EFB56EC7C08EA0AC20130E4B095E49B7E...         C   \n",
       "\n",
       "                                             ACCT_ID  TR_CHNL  TR_CD  IS_CASH  \\\n",
       "0  F730494CEF116A5BD34874CF25218FAFCEBC190D002DCA...       11   9999        1   \n",
       "1  F93A7770CDE4C39B1167DCB14922B623EC4661BC811A4E...       11   9999        1   \n",
       "2  F93A7770CDE4C39B1167DCB14922B623EC4661BC811A4E...       11   9999        1   \n",
       "3  F93A7770CDE4C39B1167DCB14922B623EC4661BC811A4E...       11   9999        1   \n",
       "4  2A1B8FEB49D48D0E6C64FA61CC245D6541BA2222DEB60D...       11   9999        1   \n",
       "\n",
       "  DEBIT_CREDIT CURR_CD     TR_AMT  TR_BAL_AMT FUND_USE  \\\n",
       "0            D     CNY    6304.40       33.66       汇兑   \n",
       "1            D     CNY   10620.26   273563.80       汇兑   \n",
       "2            D     CNY  100000.00   105426.13       汇兑   \n",
       "3            D     CNY    2520.00   102901.13       汇兑   \n",
       "4            D     CNY   20719.00        0.05     行内转账   \n",
       "\n",
       "                                         OPP_ACCT_ID  OPR_ID  RE_OPR_ID  \\\n",
       "0  E04204F18811DB76E6DE76D969D864C569283272519DE6...  IN0011        NaN   \n",
       "1  45825D51B344EFD43A0DFAC412A9EA19E9991854A7C2AF...  IN0029        NaN   \n",
       "2  CCCC3C9484F024D504DEA87731306516D5D18F9BD9E101...  IN0011        NaN   \n",
       "3  DA84983937436BBAA2D956779C11FA452EBD72005CDBF8...  IN0017        NaN   \n",
       "4  08CF17AD5B7C327949EDB00482C6A1FFE75C22747841FC...  IN0007        NaN   \n",
       "\n",
       "         TR_IPV4  \n",
       "0    60.10.17.15  \n",
       "1  101.30.68.215  \n",
       "2    60.10.17.15  \n",
       "3    60.10.17.15  \n",
       "4    60.10.17.15  "
      ]
     },
     "execution_count": 7,
     "metadata": {},
     "output_type": "execute_result"
    }
   ],
   "source": [
    "df_trans.head()"
   ]
  },
  {
   "cell_type": "code",
   "execution_count": 24,
   "metadata": {},
   "outputs": [
    {
     "data": {
      "text/plain": [
       "(       TR_TM             TR_NO  OPR_ID\n",
       " 0  15-AUG-18  IN00110117000044  IN0011\n",
       " 1  15-AUG-18  IN00290117000025  IN0029\n",
       " 2  15-AUG-18  IN00110117000010  IN0011\n",
       " 3  15-AUG-18  IN00170117000076  IN0017\n",
       " 4  15-AUG-18  IN00070117000031  IN0007, (23115, 3))"
      ]
     },
     "execution_count": 24,
     "metadata": {},
     "output_type": "execute_result"
    }
   ],
   "source": [
    "used_index = [\"TR_TM\",\"TR_NO\",\"OPR_ID\"]\n",
    "df_trans = df_trans.loc[:,used_index]\n",
    "df_trans.head(), df_trans.shape"
   ]
  },
  {
   "cell_type": "code",
   "execution_count": 33,
   "metadata": {},
   "outputs": [],
   "source": [
    "import random\n",
    "from collections import defaultdict\n",
    "\n",
    "cust_account = defaultdict(set)\n",
    "custmer_num = 2300\n",
    "\n",
    "all_cust = [random.randint(10000000,99999999) for i in range(custmer_num)]\n",
    "\n",
    "for i in range(7500):\n",
    "    cust = random.choice(all_cust)\n",
    "    cust_account[cust].add(random.randint(1000000000,9999999999))\n"
   ]
  },
  {
   "cell_type": "code",
   "execution_count": 35,
   "metadata": {},
   "outputs": [],
   "source": [
    "all_items = []\n",
    "for cust,accounts in cust_account.items():\n",
    "    for account in accounts:\n",
    "        all_items.append([cust,account])\n",
    "        "
   ]
  },
  {
   "cell_type": "code",
   "execution_count": 96,
   "metadata": {},
   "outputs": [
    {
     "data": {
      "text/plain": [
       "(7500, 2)"
      ]
     },
     "execution_count": 96,
     "metadata": {},
     "output_type": "execute_result"
    }
   ],
   "source": [
    "np.array(all_items).shape"
   ]
  },
  {
   "cell_type": "code",
   "execution_count": 97,
   "metadata": {
    "scrolled": true
   },
   "outputs": [],
   "source": [
    "cust_account_df = pd.DataFrame(data = np.array(all_items), index = range(len(all_items)), columns=[\"CUST_ID\",\"ACCT_ID\"])"
   ]
  },
  {
   "cell_type": "code",
   "execution_count": 100,
   "metadata": {},
   "outputs": [
    {
     "data": {
      "text/plain": [
       "((7500, 2), (7500,), (2206,))"
      ]
     },
     "execution_count": 100,
     "metadata": {},
     "output_type": "execute_result"
    }
   ],
   "source": [
    "cust_account_df.shape, cust_account_df[\"ACCT_ID\"].unique().shape, cust_account_df[\"CUST_ID\"].unique().shape"
   ]
  },
  {
   "cell_type": "code",
   "execution_count": 101,
   "metadata": {},
   "outputs": [],
   "source": [
    "cust_account_df.to_csv(\"cust_acct.csv\")"
   ]
  },
  {
   "cell_type": "code",
   "execution_count": 38,
   "metadata": {},
   "outputs": [],
   "source": [
    "all_data = []\n",
    "for trans in range(23115):\n",
    "    all_data.append(random.choice(all_items))"
   ]
  },
  {
   "cell_type": "code",
   "execution_count": 90,
   "metadata": {
    "scrolled": true
   },
   "outputs": [
    {
     "ename": "AttributeError",
     "evalue": "'DataFrame' object has no attribute 'uinque'",
     "output_type": "error",
     "traceback": [
      "\u001b[0;31m---------------------------------------------------------------------------\u001b[0m",
      "\u001b[0;31mAttributeError\u001b[0m                            Traceback (most recent call last)",
      "\u001b[0;32m<ipython-input-90-d90a0700ecf9>\u001b[0m in \u001b[0;36m<module>\u001b[0;34m\u001b[0m\n\u001b[1;32m      1\u001b[0m \u001b[0mcust_account_df\u001b[0m \u001b[0;34m=\u001b[0m \u001b[0mpd\u001b[0m\u001b[0;34m.\u001b[0m\u001b[0mDataFrame\u001b[0m\u001b[0;34m(\u001b[0m\u001b[0mdata\u001b[0m \u001b[0;34m=\u001b[0m \u001b[0mnp\u001b[0m\u001b[0;34m.\u001b[0m\u001b[0marray\u001b[0m\u001b[0;34m(\u001b[0m\u001b[0mall_data\u001b[0m\u001b[0;34m)\u001b[0m\u001b[0;34m,\u001b[0m\u001b[0mindex\u001b[0m \u001b[0;34m=\u001b[0m \u001b[0mrange\u001b[0m\u001b[0;34m(\u001b[0m\u001b[0;36m23115\u001b[0m\u001b[0;34m)\u001b[0m\u001b[0;34m,\u001b[0m \u001b[0mcolumns\u001b[0m \u001b[0;34m=\u001b[0m \u001b[0;34m[\u001b[0m\u001b[0;34m\"CUST_ID\"\u001b[0m\u001b[0;34m,\u001b[0m\u001b[0;34m\"ACCT_ID\"\u001b[0m\u001b[0;34m]\u001b[0m\u001b[0;34m)\u001b[0m\u001b[0;34m\u001b[0m\u001b[0;34m\u001b[0m\u001b[0m\n\u001b[0;32m----> 2\u001b[0;31m \u001b[0mcust_account_df\u001b[0m\u001b[0;34m.\u001b[0m\u001b[0muinque\u001b[0m\u001b[0;34m(\u001b[0m\u001b[0;34m)\u001b[0m\u001b[0;34m\u001b[0m\u001b[0;34m\u001b[0m\u001b[0m\n\u001b[0m",
      "\u001b[0;32m/usr/local/lib/python3.7/site-packages/pandas/core/generic.py\u001b[0m in \u001b[0;36m__getattr__\u001b[0;34m(self, name)\u001b[0m\n\u001b[1;32m   5065\u001b[0m             \u001b[0;32mif\u001b[0m \u001b[0mself\u001b[0m\u001b[0;34m.\u001b[0m\u001b[0m_info_axis\u001b[0m\u001b[0;34m.\u001b[0m\u001b[0m_can_hold_identifiers_and_holds_name\u001b[0m\u001b[0;34m(\u001b[0m\u001b[0mname\u001b[0m\u001b[0;34m)\u001b[0m\u001b[0;34m:\u001b[0m\u001b[0;34m\u001b[0m\u001b[0;34m\u001b[0m\u001b[0m\n\u001b[1;32m   5066\u001b[0m                 \u001b[0;32mreturn\u001b[0m \u001b[0mself\u001b[0m\u001b[0;34m[\u001b[0m\u001b[0mname\u001b[0m\u001b[0;34m]\u001b[0m\u001b[0;34m\u001b[0m\u001b[0;34m\u001b[0m\u001b[0m\n\u001b[0;32m-> 5067\u001b[0;31m             \u001b[0;32mreturn\u001b[0m \u001b[0mobject\u001b[0m\u001b[0;34m.\u001b[0m\u001b[0m__getattribute__\u001b[0m\u001b[0;34m(\u001b[0m\u001b[0mself\u001b[0m\u001b[0;34m,\u001b[0m \u001b[0mname\u001b[0m\u001b[0;34m)\u001b[0m\u001b[0;34m\u001b[0m\u001b[0;34m\u001b[0m\u001b[0m\n\u001b[0m\u001b[1;32m   5068\u001b[0m \u001b[0;34m\u001b[0m\u001b[0m\n\u001b[1;32m   5069\u001b[0m     \u001b[0;32mdef\u001b[0m \u001b[0m__setattr__\u001b[0m\u001b[0;34m(\u001b[0m\u001b[0mself\u001b[0m\u001b[0;34m,\u001b[0m \u001b[0mname\u001b[0m\u001b[0;34m,\u001b[0m \u001b[0mvalue\u001b[0m\u001b[0;34m)\u001b[0m\u001b[0;34m:\u001b[0m\u001b[0;34m\u001b[0m\u001b[0;34m\u001b[0m\u001b[0m\n",
      "\u001b[0;31mAttributeError\u001b[0m: 'DataFrame' object has no attribute 'uinque'"
     ]
    }
   ],
   "source": [
    "cust_account_df = pd.DataFrame(data = np.array(all_data),index = range(23115), columns = [\"CUST_ID\",\"ACCT_ID\"])"
   ]
  },
  {
   "cell_type": "code",
   "execution_count": 89,
   "metadata": {},
   "outputs": [
    {
     "data": {
      "text/plain": [
       "(7169,)"
      ]
     },
     "execution_count": 89,
     "metadata": {},
     "output_type": "execute_result"
    }
   ],
   "source": [
    "cust_account_df[\"ACCT_ID\"].unique().shape"
   ]
  },
  {
   "cell_type": "code",
   "execution_count": 46,
   "metadata": {},
   "outputs": [],
   "source": [
    "df_trans_final = pd.concat([df_trans,cust_account_df], axis = 1)"
   ]
  },
  {
   "cell_type": "code",
   "execution_count": 52,
   "metadata": {},
   "outputs": [
    {
     "data": {
      "text/plain": [
       "((23115, 5), (7169,), (2188,))"
      ]
     },
     "execution_count": 52,
     "metadata": {},
     "output_type": "execute_result"
    }
   ],
   "source": [
    "df_trans_final.shape, df_trans_final[\"ACCT_ID\"].unique().shape,df_trans_final[\"CUST_ID\"].unique().shape"
   ]
  },
  {
   "cell_type": "code",
   "execution_count": 53,
   "metadata": {},
   "outputs": [],
   "source": [
    "guiyuan_df = pd.read_csv(\"PT_HCM_STA_EMP_DATA_TABLE.csv\")"
   ]
  },
  {
   "cell_type": "code",
   "execution_count": 55,
   "metadata": {},
   "outputs": [
    {
     "data": {
      "text/html": [
       "<div>\n",
       "<style scoped>\n",
       "    .dataframe tbody tr th:only-of-type {\n",
       "        vertical-align: middle;\n",
       "    }\n",
       "\n",
       "    .dataframe tbody tr th {\n",
       "        vertical-align: top;\n",
       "    }\n",
       "\n",
       "    .dataframe thead th {\n",
       "        text-align: right;\n",
       "    }\n",
       "</style>\n",
       "<table border=\"1\" class=\"dataframe\">\n",
       "  <thead>\n",
       "    <tr style=\"text-align: right;\">\n",
       "      <th></th>\n",
       "      <th>C_CODE</th>\n",
       "      <th>C_GENDER</th>\n",
       "      <th>C_AGE</th>\n",
       "      <th>C_FIRST_WORK_DATE</th>\n",
       "      <th>C_SFSSZHT</th>\n",
       "      <th>C_FANXIQIAN</th>\n",
       "      <th>C_FXQNX</th>\n",
       "      <th>C_FXDW</th>\n",
       "    </tr>\n",
       "  </thead>\n",
       "  <tbody>\n",
       "    <tr>\n",
       "      <th>0</th>\n",
       "      <td>1006</td>\n",
       "      <td>1</td>\n",
       "      <td>53</td>\n",
       "      <td>01-AUG-86</td>\n",
       "      <td>0.0</td>\n",
       "      <td>NaN</td>\n",
       "      <td>NaN</td>\n",
       "      <td>1.0</td>\n",
       "    </tr>\n",
       "    <tr>\n",
       "      <th>1</th>\n",
       "      <td>4014</td>\n",
       "      <td>2</td>\n",
       "      <td>49</td>\n",
       "      <td>01-DEC-90</td>\n",
       "      <td>0.0</td>\n",
       "      <td>NaN</td>\n",
       "      <td>NaN</td>\n",
       "      <td>1.0</td>\n",
       "    </tr>\n",
       "    <tr>\n",
       "      <th>2</th>\n",
       "      <td>21012</td>\n",
       "      <td>2</td>\n",
       "      <td>25</td>\n",
       "      <td>23-FEB-16</td>\n",
       "      <td>0.0</td>\n",
       "      <td>NaN</td>\n",
       "      <td>NaN</td>\n",
       "      <td>1.0</td>\n",
       "    </tr>\n",
       "    <tr>\n",
       "      <th>3</th>\n",
       "      <td>2003</td>\n",
       "      <td>2</td>\n",
       "      <td>53</td>\n",
       "      <td>01-DEC-81</td>\n",
       "      <td>0.0</td>\n",
       "      <td>NaN</td>\n",
       "      <td>NaN</td>\n",
       "      <td>1.0</td>\n",
       "    </tr>\n",
       "    <tr>\n",
       "      <th>4</th>\n",
       "      <td>1333</td>\n",
       "      <td>2</td>\n",
       "      <td>38</td>\n",
       "      <td>01-AUG-03</td>\n",
       "      <td>0.0</td>\n",
       "      <td>NaN</td>\n",
       "      <td>NaN</td>\n",
       "      <td>NaN</td>\n",
       "    </tr>\n",
       "  </tbody>\n",
       "</table>\n",
       "</div>"
      ],
      "text/plain": [
       "   C_CODE  C_GENDER  C_AGE C_FIRST_WORK_DATE  C_SFSSZHT  C_FANXIQIAN  C_FXQNX  \\\n",
       "0    1006         1     53         01-AUG-86        0.0          NaN      NaN   \n",
       "1    4014         2     49         01-DEC-90        0.0          NaN      NaN   \n",
       "2   21012         2     25         23-FEB-16        0.0          NaN      NaN   \n",
       "3    2003         2     53         01-DEC-81        0.0          NaN      NaN   \n",
       "4    1333         2     38         01-AUG-03        0.0          NaN      NaN   \n",
       "\n",
       "   C_FXDW  \n",
       "0     1.0  \n",
       "1     1.0  \n",
       "2     1.0  \n",
       "3     1.0  \n",
       "4     NaN  "
      ]
     },
     "execution_count": 55,
     "metadata": {},
     "output_type": "execute_result"
    }
   ],
   "source": [
    "guiyuan_df.head()"
   ]
  },
  {
   "cell_type": "code",
   "execution_count": 73,
   "metadata": {},
   "outputs": [
    {
     "data": {
      "text/plain": [
       "(2188, 3)"
      ]
     },
     "execution_count": 73,
     "metadata": {},
     "output_type": "execute_result"
    }
   ],
   "source": [
    "guiyuan_index = [\"C_GENDER\",\"C_AGE\",\"C_FIRST_WORK_DATE\"]\n",
    "guiyuan_df = guiyuan_df[guiyuan_index]\n",
    "guiyuan_df.shape"
   ]
  },
  {
   "cell_type": "code",
   "execution_count": 82,
   "metadata": {},
   "outputs": [
    {
     "data": {
      "text/plain": [
       "(2188,)"
      ]
     },
     "execution_count": 82,
     "metadata": {},
     "output_type": "execute_result"
    }
   ],
   "source": [
    "cust_account_df[\"CUST_ID\"].unique().shape"
   ]
  },
  {
   "cell_type": "code",
   "execution_count": 83,
   "metadata": {},
   "outputs": [],
   "source": [
    "guiyuan_df[\"CUST_CODE\"] = cust_account_df[\"CUST_ID\"].unique()"
   ]
  },
  {
   "cell_type": "code",
   "execution_count": 85,
   "metadata": {},
   "outputs": [],
   "source": [
    "guiyuan_df.to_csv(\"customer_tb.csv\")\n",
    "cust_account_df.to_csv(\"cust_acct.csv\")\n",
    "df_trans_final.to_csv(\"transaction.csv\")"
   ]
  },
  {
   "cell_type": "code",
   "execution_count": 106,
   "metadata": {},
   "outputs": [],
   "source": [
    "guiyuan_test = pd.read_csv(\"F_CM_KTLP_GYCSHU_DATA_TABLE.csv\")"
   ]
  },
  {
   "cell_type": "code",
   "execution_count": 107,
   "metadata": {},
   "outputs": [],
   "source": [
    "needed_index = [\"GUIYDAIH\",\"YNGYJIGO\",\"GUIYSHUX\"]"
   ]
  },
  {
   "cell_type": "code",
   "execution_count": 108,
   "metadata": {},
   "outputs": [],
   "source": [
    "guiyuan_test = guiyuan_test[needed_index]"
   ]
  },
  {
   "cell_type": "code",
   "execution_count": 116,
   "metadata": {},
   "outputs": [],
   "source": [
    "index = guiyuan_test[\"YNGYJIGO\"].unique().tolist()"
   ]
  },
  {
   "cell_type": "code",
   "execution_count": 135,
   "metadata": {},
   "outputs": [],
   "source": [
    "guiyuan_test[\"level\"] = 0"
   ]
  },
  {
   "cell_type": "code",
   "execution_count": 166,
   "metadata": {},
   "outputs": [],
   "source": [
    "all_pos = []\n",
    "for jigou in index:\n",
    "    if jigou > 0:\n",
    "        all_pos.append(guiyuan_test[guiyuan_test[\"YNGYJIGO\"] == jigou].index[0])\n",
    "    "
   ]
  },
  {
   "cell_type": "code",
   "execution_count": 167,
   "metadata": {},
   "outputs": [],
   "source": [
    "guiyuan_test.loc[all_pos,\"level\"] = 1"
   ]
  },
  {
   "cell_type": "code",
   "execution_count": 169,
   "metadata": {},
   "outputs": [
    {
     "data": {
      "text/plain": [
       "121"
      ]
     },
     "execution_count": 169,
     "metadata": {},
     "output_type": "execute_result"
    }
   ],
   "source": [
    "guiyuan_test[\"level\"].sum()"
   ]
  },
  {
   "cell_type": "code",
   "execution_count": 172,
   "metadata": {},
   "outputs": [],
   "source": [
    "guiyuan_test.drop(\"GUIYSHUX\", axis = 1, inplace = True)"
   ]
  },
  {
   "cell_type": "code",
   "execution_count": 174,
   "metadata": {},
   "outputs": [],
   "source": [
    "guiyuan_test.to_csv(\"teller.csv\")"
   ]
  },
  {
   "cell_type": "code",
   "execution_count": 177,
   "metadata": {},
   "outputs": [
    {
     "data": {
      "text/plain": [
       "(4722,)"
      ]
     },
     "execution_count": 177,
     "metadata": {},
     "output_type": "execute_result"
    }
   ],
   "source": [
    "guiyuan_test[\"GUIYDAIH\"].unique().to_list()"
   ]
  },
  {
   "cell_type": "code",
   "execution_count": 181,
   "metadata": {},
   "outputs": [],
   "source": [
    "login = guiyuan_df[\"CUST_CODE\"].to_list() + guiyuan_test[\"GUIYDAIH\"].to_list()"
   ]
  },
  {
   "cell_type": "code",
   "execution_count": 189,
   "metadata": {},
   "outputs": [],
   "source": [
    "def get_pass():\n",
    "\n",
    "    return \"\".join([random.choice(\"zbcdefghijklmnopqrstuvwxyz\") for i in range(3)] + [str(random.randint(0,9)) for i in range(6)])"
   ]
  },
  {
   "cell_type": "code",
   "execution_count": 190,
   "metadata": {},
   "outputs": [],
   "source": [
    "import random\n",
    "\n",
    "login_array = []\n",
    "\n",
    "for account in login:\n",
    "    login_array.append([account,get_pass()])"
   ]
  },
  {
   "cell_type": "code",
   "execution_count": 192,
   "metadata": {},
   "outputs": [],
   "source": [
    "cheif = [\"100000\",\"cheif\"]\n",
    "admin = [\"100001\",\"admin\"]"
   ]
  },
  {
   "cell_type": "code",
   "execution_count": 193,
   "metadata": {},
   "outputs": [],
   "source": [
    "login_array.append(cheif)\n",
    "login_array.append(admin)"
   ]
  },
  {
   "cell_type": "code",
   "execution_count": 197,
   "metadata": {},
   "outputs": [
    {
     "data": {
      "text/html": [
       "<div>\n",
       "<style scoped>\n",
       "    .dataframe tbody tr th:only-of-type {\n",
       "        vertical-align: middle;\n",
       "    }\n",
       "\n",
       "    .dataframe tbody tr th {\n",
       "        vertical-align: top;\n",
       "    }\n",
       "\n",
       "    .dataframe thead th {\n",
       "        text-align: right;\n",
       "    }\n",
       "</style>\n",
       "<table border=\"1\" class=\"dataframe\">\n",
       "  <thead>\n",
       "    <tr style=\"text-align: right;\">\n",
       "      <th></th>\n",
       "      <th>ID</th>\n",
       "      <th>passwd</th>\n",
       "    </tr>\n",
       "  </thead>\n",
       "  <tbody>\n",
       "    <tr>\n",
       "      <th>0</th>\n",
       "      <td>49744050</td>\n",
       "      <td>fnp569891</td>\n",
       "    </tr>\n",
       "    <tr>\n",
       "      <th>1</th>\n",
       "      <td>88528785</td>\n",
       "      <td>loj600073</td>\n",
       "    </tr>\n",
       "    <tr>\n",
       "      <th>2</th>\n",
       "      <td>63334672</td>\n",
       "      <td>sbg923291</td>\n",
       "    </tr>\n",
       "    <tr>\n",
       "      <th>3</th>\n",
       "      <td>19815276</td>\n",
       "      <td>kvf799106</td>\n",
       "    </tr>\n",
       "    <tr>\n",
       "      <th>4</th>\n",
       "      <td>44407636</td>\n",
       "      <td>nlb734642</td>\n",
       "    </tr>\n",
       "  </tbody>\n",
       "</table>\n",
       "</div>"
      ],
      "text/plain": [
       "         ID     passwd\n",
       "0  49744050  fnp569891\n",
       "1  88528785  loj600073\n",
       "2  63334672  sbg923291\n",
       "3  19815276  kvf799106\n",
       "4  44407636  nlb734642"
      ]
     },
     "execution_count": 197,
     "metadata": {},
     "output_type": "execute_result"
    }
   ],
   "source": [
    "pass_word_df = pd.DataFrame(data = np.array(login_array), index = range(len(login_array)),columns = [\"ID\",\"passwd\"])\n",
    "pass_word_df.head()"
   ]
  },
  {
   "cell_type": "code",
   "execution_count": 198,
   "metadata": {},
   "outputs": [],
   "source": [
    "pass_word_df.to_csv(\"confidentical_info.csv\")"
   ]
  },
  {
   "cell_type": "code",
   "execution_count": 283,
   "metadata": {},
   "outputs": [],
   "source": [
    "df_trans_final = pd.read_csv(\"transaction.csv\",index_col = 0)"
   ]
  },
  {
   "cell_type": "code",
   "execution_count": 284,
   "metadata": {},
   "outputs": [],
   "source": [
    "df_trans_final[\"TR_AM\"] = 0"
   ]
  },
  {
   "cell_type": "code",
   "execution_count": 285,
   "metadata": {},
   "outputs": [],
   "source": [
    "amount = [random.randint(1,1000000) for i in range(df_trans_final.shape[0])]"
   ]
  },
  {
   "cell_type": "code",
   "execution_count": 286,
   "metadata": {},
   "outputs": [],
   "source": [
    "df_trans_final[\"TR_AM\"] = amount"
   ]
  },
  {
   "cell_type": "code",
   "execution_count": 287,
   "metadata": {},
   "outputs": [],
   "source": [
    "all_account = set(df_trans_final[\"ACCT_ID\"].to_list())"
   ]
  },
  {
   "cell_type": "code",
   "execution_count": 288,
   "metadata": {},
   "outputs": [],
   "source": [
    "OPP_ACCT_ID = [random.choice(list(all_account)) for i in range(df_trans_final.shape[0])]"
   ]
  },
  {
   "cell_type": "code",
   "execution_count": 289,
   "metadata": {},
   "outputs": [],
   "source": [
    "df_trans_final[\"OPP_ACCT_ID\"] = OPP_ACCT_ID"
   ]
  },
  {
   "cell_type": "code",
   "execution_count": 291,
   "metadata": {},
   "outputs": [],
   "source": [
    "df_trans_final.to_csv(\"transaction.csv\")"
   ]
  },
  {
   "cell_type": "code",
   "execution_count": null,
   "metadata": {},
   "outputs": [],
   "source": []
  }
 ],
 "metadata": {
  "kernelspec": {
   "display_name": "Python 3",
   "language": "python",
   "name": "python3"
  },
  "language_info": {
   "codemirror_mode": {
    "name": "ipython",
    "version": 3
   },
   "file_extension": ".py",
   "mimetype": "text/x-python",
   "name": "python",
   "nbconvert_exporter": "python",
   "pygments_lexer": "ipython3",
   "version": "3.7.3"
  }
 },
 "nbformat": 4,
 "nbformat_minor": 2
}
