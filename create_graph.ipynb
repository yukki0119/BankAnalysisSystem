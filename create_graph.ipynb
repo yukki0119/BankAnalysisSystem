{
 "cells": [
  {
   "cell_type": "code",
   "execution_count": 4,
   "metadata": {},
   "outputs": [],
   "source": [
    "from neo4j import GraphDatabase\n",
    "import pickle\n",
    "import pandas as pd"
   ]
  },
  {
   "cell_type": "markdown",
   "metadata": {},
   "source": [
    "### When using MERGE or MATCH with LOAD CSV we need to make sure we have an index or a unique constraint on the property that we are merging on. This will ensure that the query executes in a performant way.\n",
    "\n",
    "- CREATE INDEX ON :Teller(id)\n",
    "- CREATE INDEX ON :Account(id)"
   ]
  },
  {
   "cell_type": "code",
   "execution_count": 6,
   "metadata": {},
   "outputs": [],
   "source": [
    "driver = GraphDatabase.driver(\"bolt://localhost:7687\", auth=(\"neo4j\", \"lv23623600\"))"
   ]
  },
  {
   "cell_type": "markdown",
   "metadata": {},
   "source": [
    "## Add Hall (营业机构)"
   ]
  },
  {
   "cell_type": "code",
   "execution_count": 7,
   "metadata": {},
   "outputs": [],
   "source": [
    "teller = pd.read_csv(\"teller.csv\", index_col = 0) \n",
    "institutes = list(teller[\"YNGYJIGO\"].unique())"
   ]
  },
  {
   "cell_type": "code",
   "execution_count": 10,
   "metadata": {},
   "outputs": [],
   "source": [
    "def add_hall(tx):\n",
    "    \"\"\"add haller\n",
    "    \"\"\"\n",
    "    for ins in institutes:\n",
    "        tx.run(\"CREATE (ins: Hall{{ id:{} }})\".format(ins))"
   ]
  },
  {
   "cell_type": "code",
   "execution_count": 11,
   "metadata": {},
   "outputs": [],
   "source": [
    "with driver.session() as session:\n",
    "    session.write_transaction(add_hall)"
   ]
  },
  {
   "cell_type": "markdown",
   "metadata": {},
   "source": [
    "## Add Teller (柜员)"
   ]
  },
  {
   "cell_type": "code",
   "execution_count": 12,
   "metadata": {},
   "outputs": [
    {
     "data": {
      "text/html": [
       "<div>\n",
       "<style scoped>\n",
       "    .dataframe tbody tr th:only-of-type {\n",
       "        vertical-align: middle;\n",
       "    }\n",
       "\n",
       "    .dataframe tbody tr th {\n",
       "        vertical-align: top;\n",
       "    }\n",
       "\n",
       "    .dataframe thead th {\n",
       "        text-align: right;\n",
       "    }\n",
       "</style>\n",
       "<table border=\"1\" class=\"dataframe\">\n",
       "  <thead>\n",
       "    <tr style=\"text-align: right;\">\n",
       "      <th></th>\n",
       "      <th>GUIYDAIH</th>\n",
       "      <th>YNGYJIGO</th>\n",
       "      <th>level</th>\n",
       "    </tr>\n",
       "  </thead>\n",
       "  <tbody>\n",
       "    <tr>\n",
       "      <th>0</th>\n",
       "      <td>001041</td>\n",
       "      <td>601101</td>\n",
       "      <td>1</td>\n",
       "    </tr>\n",
       "    <tr>\n",
       "      <th>1</th>\n",
       "      <td>004053</td>\n",
       "      <td>601104</td>\n",
       "      <td>1</td>\n",
       "    </tr>\n",
       "    <tr>\n",
       "      <th>2</th>\n",
       "      <td>007020</td>\n",
       "      <td>601129</td>\n",
       "      <td>1</td>\n",
       "    </tr>\n",
       "    <tr>\n",
       "      <th>3</th>\n",
       "      <td>015005</td>\n",
       "      <td>601104</td>\n",
       "      <td>0</td>\n",
       "    </tr>\n",
       "    <tr>\n",
       "      <th>4</th>\n",
       "      <td>011024</td>\n",
       "      <td>601114</td>\n",
       "      <td>1</td>\n",
       "    </tr>\n",
       "  </tbody>\n",
       "</table>\n",
       "</div>"
      ],
      "text/plain": [
       "  GUIYDAIH  YNGYJIGO  level\n",
       "0   001041    601101      1\n",
       "1   004053    601104      1\n",
       "2   007020    601129      1\n",
       "3   015005    601104      0\n",
       "4   011024    601114      1"
      ]
     },
     "execution_count": 12,
     "metadata": {},
     "output_type": "execute_result"
    }
   ],
   "source": [
    "teller.head()"
   ]
  },
  {
   "cell_type": "code",
   "execution_count": 13,
   "metadata": {},
   "outputs": [],
   "source": [
    "def add_teller(tx):\n",
    "    \"\"\"add teller\n",
    "    \"\"\"\n",
    "    for line in teller.values.tolist():\n",
    "        if line[2] == 0:\n",
    "            tx.run(\"CREATE (te: Teller{{ id: \\\"{}\\\", hall: {}, level: {} }})\".format(line[0],line[1],line[2]))        "
   ]
  },
  {
   "cell_type": "code",
   "execution_count": 14,
   "metadata": {},
   "outputs": [],
   "source": [
    "with driver.session() as session:\n",
    "    session.write_transaction(add_teller)"
   ]
  },
  {
   "cell_type": "markdown",
   "metadata": {},
   "source": [
    "## add cheif"
   ]
  },
  {
   "cell_type": "code",
   "execution_count": 15,
   "metadata": {},
   "outputs": [],
   "source": [
    "def add_cheif(tx):\n",
    "    \"\"\"add teller\n",
    "    \"\"\"\n",
    "    for line in teller.values.tolist():\n",
    "        if line[2] == 1:\n",
    "            tx.run(\"CREATE (te: Cheif{{ id: \\\"{}\\\", hall: {}, level: {} }})\".format(line[0],line[1],line[2]))        "
   ]
  },
  {
   "cell_type": "code",
   "execution_count": 16,
   "metadata": {},
   "outputs": [],
   "source": [
    "with driver.session() as session:\n",
    "    session.write_transaction(add_cheif)"
   ]
  },
  {
   "cell_type": "markdown",
   "metadata": {},
   "source": [
    "## add customer (客户号)"
   ]
  },
  {
   "cell_type": "code",
   "execution_count": 17,
   "metadata": {},
   "outputs": [],
   "source": [
    "def add_customer(tx):\n",
    "    \"\"\"add customer\n",
    "    \"\"\"\n",
    "    tx.run(\"LOAD CSV WITH HEADERS  FROM \\\"file:///customer_tb.csv\\\" AS line MERGE (customer:Customer{id: toInt(line.CUST_CODE),C_GENDER:line.C_GENDER,C_AGE:line.C_AGE,C_FIRST_WORK_DATE:line.C_FIRST_WORK_DATE })\")"
   ]
  },
  {
   "cell_type": "code",
   "execution_count": 18,
   "metadata": {},
   "outputs": [],
   "source": [
    "with driver.session() as session:\n",
    "    session.write_transaction(add_customer)"
   ]
  },
  {
   "cell_type": "markdown",
   "metadata": {},
   "source": [
    "## add account (账户号)"
   ]
  },
  {
   "cell_type": "code",
   "execution_count": 19,
   "metadata": {},
   "outputs": [
    {
     "data": {
      "text/html": [
       "<div>\n",
       "<style scoped>\n",
       "    .dataframe tbody tr th:only-of-type {\n",
       "        vertical-align: middle;\n",
       "    }\n",
       "\n",
       "    .dataframe tbody tr th {\n",
       "        vertical-align: top;\n",
       "    }\n",
       "\n",
       "    .dataframe thead th {\n",
       "        text-align: right;\n",
       "    }\n",
       "</style>\n",
       "<table border=\"1\" class=\"dataframe\">\n",
       "  <thead>\n",
       "    <tr style=\"text-align: right;\">\n",
       "      <th></th>\n",
       "      <th>CUST_ID</th>\n",
       "      <th>ACCT_ID</th>\n",
       "    </tr>\n",
       "  </thead>\n",
       "  <tbody>\n",
       "    <tr>\n",
       "      <th>0</th>\n",
       "      <td>39697816</td>\n",
       "      <td>2265871694</td>\n",
       "    </tr>\n",
       "    <tr>\n",
       "      <th>1</th>\n",
       "      <td>39697816</td>\n",
       "      <td>4567905843</td>\n",
       "    </tr>\n",
       "    <tr>\n",
       "      <th>2</th>\n",
       "      <td>39697816</td>\n",
       "      <td>4211888405</td>\n",
       "    </tr>\n",
       "    <tr>\n",
       "      <th>3</th>\n",
       "      <td>39697816</td>\n",
       "      <td>3241956117</td>\n",
       "    </tr>\n",
       "    <tr>\n",
       "      <th>4</th>\n",
       "      <td>39697816</td>\n",
       "      <td>5170732060</td>\n",
       "    </tr>\n",
       "  </tbody>\n",
       "</table>\n",
       "</div>"
      ],
      "text/plain": [
       "    CUST_ID     ACCT_ID\n",
       "0  39697816  2265871694\n",
       "1  39697816  4567905843\n",
       "2  39697816  4211888405\n",
       "3  39697816  3241956117\n",
       "4  39697816  5170732060"
      ]
     },
     "execution_count": 19,
     "metadata": {},
     "output_type": "execute_result"
    }
   ],
   "source": [
    "cust_account = pd.read_csv(\"cust_acct.csv\", index_col = 0)\n",
    "cust_account.head()"
   ]
  },
  {
   "cell_type": "code",
   "execution_count": 20,
   "metadata": {},
   "outputs": [],
   "source": [
    "all_account = list(cust_account[\"ACCT_ID\"].unique())"
   ]
  },
  {
   "cell_type": "code",
   "execution_count": 21,
   "metadata": {},
   "outputs": [],
   "source": [
    "def add_account(tx):\n",
    "    \"\"\"add account\n",
    "    \"\"\"\n",
    "    for acct_id in all_account:\n",
    "        tx.run(\"CREATE (ac: Account{{ id: {} }})\".format(acct_id))"
   ]
  },
  {
   "cell_type": "code",
   "execution_count": 22,
   "metadata": {},
   "outputs": [],
   "source": [
    "with driver.session() as session:\n",
    "    session.write_transaction(add_account)"
   ]
  },
  {
   "cell_type": "markdown",
   "metadata": {},
   "source": [
    "## add President"
   ]
  },
  {
   "cell_type": "code",
   "execution_count": 48,
   "metadata": {},
   "outputs": [],
   "source": [
    "def add_president(tx):\n",
    "    \"\"\"add President\n",
    "    \"\"\"\n",
    "    tx.run(\"CREATE (p: President{ id: '000000' })\")\n",
    "\n",
    "with driver.session() as session:\n",
    "    session.write_transaction(add_president)"
   ]
  },
  {
   "cell_type": "markdown",
   "metadata": {},
   "source": [
    "## add index"
   ]
  },
  {
   "cell_type": "code",
   "execution_count": 23,
   "metadata": {},
   "outputs": [],
   "source": [
    "def add_index(tx):\n",
    "    tx.run(\"CREATE INDEX ON :Teller(id)\")\n",
    "    tx.run(\"CREATE INDEX ON :Account(id)\")"
   ]
  },
  {
   "cell_type": "code",
   "execution_count": 24,
   "metadata": {},
   "outputs": [],
   "source": [
    "with driver.session() as session:\n",
    "    session.write_transaction(add_index)"
   ]
  },
  {
   "cell_type": "markdown",
   "metadata": {},
   "source": [
    "## add belongTo relation (Customer has many account)"
   ]
  },
  {
   "cell_type": "code",
   "execution_count": 25,
   "metadata": {},
   "outputs": [],
   "source": [
    "def add_belongTo_rela(tx):\n",
    "    \"\"\"add belongTo relation, some customer has many \n",
    "    \"\"\"\n",
    "    tx.run(\"LOAD CSV WITH HEADERS  FROM \\\"file:///cust_acct.csv\\\" AS line match (from:Account{id: toInt(line.ACCT_ID) }),(to:Customer{id: toInt(line.CUST_ID)}) merge (from)-[r:belongTo]->(to)\")"
   ]
  },
  {
   "cell_type": "code",
   "execution_count": 26,
   "metadata": {},
   "outputs": [],
   "source": [
    "with driver.session() as session:\n",
    "    session.write_transaction(add_belongTo_rela)"
   ]
  },
  {
   "cell_type": "markdown",
   "metadata": {},
   "source": [
    "## add transaction relation (account -> account)"
   ]
  },
  {
   "cell_type": "code",
   "execution_count": 27,
   "metadata": {},
   "outputs": [
    {
     "data": {
      "text/html": [
       "<div>\n",
       "<style scoped>\n",
       "    .dataframe tbody tr th:only-of-type {\n",
       "        vertical-align: middle;\n",
       "    }\n",
       "\n",
       "    .dataframe tbody tr th {\n",
       "        vertical-align: top;\n",
       "    }\n",
       "\n",
       "    .dataframe thead th {\n",
       "        text-align: right;\n",
       "    }\n",
       "</style>\n",
       "<table border=\"1\" class=\"dataframe\">\n",
       "  <thead>\n",
       "    <tr style=\"text-align: right;\">\n",
       "      <th></th>\n",
       "      <th>TR_TM</th>\n",
       "      <th>TR_NO</th>\n",
       "      <th>OPR_ID</th>\n",
       "      <th>CUST_ID</th>\n",
       "      <th>ACCT_ID</th>\n",
       "      <th>TR_AM</th>\n",
       "      <th>OPP_ACCT_ID</th>\n",
       "    </tr>\n",
       "  </thead>\n",
       "  <tbody>\n",
       "    <tr>\n",
       "      <th>0</th>\n",
       "      <td>15-AUG-18</td>\n",
       "      <td>IN00110117000044</td>\n",
       "      <td>IN0011</td>\n",
       "      <td>49744050</td>\n",
       "      <td>9422937241</td>\n",
       "      <td>2215</td>\n",
       "      <td>4161831387</td>\n",
       "    </tr>\n",
       "    <tr>\n",
       "      <th>1</th>\n",
       "      <td>15-AUG-18</td>\n",
       "      <td>IN00290117000025</td>\n",
       "      <td>IN0029</td>\n",
       "      <td>88528785</td>\n",
       "      <td>2553396999</td>\n",
       "      <td>169684</td>\n",
       "      <td>8852694812</td>\n",
       "    </tr>\n",
       "    <tr>\n",
       "      <th>2</th>\n",
       "      <td>15-AUG-18</td>\n",
       "      <td>IN00110117000010</td>\n",
       "      <td>IN0011</td>\n",
       "      <td>63334672</td>\n",
       "      <td>3842340517</td>\n",
       "      <td>856189</td>\n",
       "      <td>8518307638</td>\n",
       "    </tr>\n",
       "    <tr>\n",
       "      <th>3</th>\n",
       "      <td>15-AUG-18</td>\n",
       "      <td>IN00170117000076</td>\n",
       "      <td>IN0017</td>\n",
       "      <td>19815276</td>\n",
       "      <td>5174142869</td>\n",
       "      <td>204857</td>\n",
       "      <td>7259062305</td>\n",
       "    </tr>\n",
       "    <tr>\n",
       "      <th>4</th>\n",
       "      <td>15-AUG-18</td>\n",
       "      <td>IN00070117000031</td>\n",
       "      <td>IN0007</td>\n",
       "      <td>44407636</td>\n",
       "      <td>4809166321</td>\n",
       "      <td>548499</td>\n",
       "      <td>9041482456</td>\n",
       "    </tr>\n",
       "  </tbody>\n",
       "</table>\n",
       "</div>"
      ],
      "text/plain": [
       "       TR_TM             TR_NO  OPR_ID   CUST_ID     ACCT_ID   TR_AM  \\\n",
       "0  15-AUG-18  IN00110117000044  IN0011  49744050  9422937241    2215   \n",
       "1  15-AUG-18  IN00290117000025  IN0029  88528785  2553396999  169684   \n",
       "2  15-AUG-18  IN00110117000010  IN0011  63334672  3842340517  856189   \n",
       "3  15-AUG-18  IN00170117000076  IN0017  19815276  5174142869  204857   \n",
       "4  15-AUG-18  IN00070117000031  IN0007  44407636  4809166321  548499   \n",
       "\n",
       "   OPP_ACCT_ID  \n",
       "0   4161831387  \n",
       "1   8852694812  \n",
       "2   8518307638  \n",
       "3   7259062305  \n",
       "4   9041482456  "
      ]
     },
     "execution_count": 27,
     "metadata": {},
     "output_type": "execute_result"
    }
   ],
   "source": [
    "transaction = pd.read_csv(\"transaction.csv\", index_col = 0)\n",
    "transaction.head()"
   ]
  },
  {
   "cell_type": "code",
   "execution_count": 28,
   "metadata": {},
   "outputs": [],
   "source": [
    "def add_transaction_rela(tx):\n",
    "    \"\"\"add transaction relation (a account transfer money to another account)\n",
    "    \"\"\"\n",
    "    tx.run(\"LOAD CSV WITH HEADERS  FROM \\\"file:///transaction.csv\\\" AS line match (from:Account{id: toInt(line.ACCT_ID) }),(to:Account{id: toInt(line.OPP_ACCT_ID) }) merge (from)-[r:transaction{ TR_TM: line.TR_TM, TR_NO: line.TR_NO, TR_AM: toInt(line.TR_AM), OPR_id: line.OPR_ID }]->(to)\")"
   ]
  },
  {
   "cell_type": "code",
   "execution_count": 29,
   "metadata": {},
   "outputs": [],
   "source": [
    "with driver.session() as session:\n",
    "    session.write_transaction(add_transaction_rela)"
   ]
  },
  {
   "cell_type": "markdown",
   "metadata": {},
   "source": [
    "## add operate relation (teller can server many account )"
   ]
  },
  {
   "cell_type": "code",
   "execution_count": 30,
   "metadata": {},
   "outputs": [],
   "source": [
    "def add_serve_rela(tx):\n",
    "    \"\"\"add serve relation (teller can serve many account )\n",
    "    \"\"\"\n",
    "    tx.run(\"LOAD CSV WITH HEADERS  FROM \\\"file:///transaction.csv\\\" AS line match (from:Teller{id: line.OPR_ID}),(to:Account{id: toInt(line.ACCT_ID)}) merge (from)-[r:operate]->(to)\")\n",
    "    "
   ]
  },
  {
   "cell_type": "code",
   "execution_count": 31,
   "metadata": {},
   "outputs": [],
   "source": [
    "with driver.session() as session:\n",
    "    session.write_transaction(add_serve_rela)"
   ]
  },
  {
   "cell_type": "markdown",
   "metadata": {},
   "source": [
    "## add manage relation (cheif manage institute)"
   ]
  },
  {
   "cell_type": "code",
   "execution_count": 34,
   "metadata": {},
   "outputs": [
    {
     "data": {
      "text/html": [
       "<div>\n",
       "<style scoped>\n",
       "    .dataframe tbody tr th:only-of-type {\n",
       "        vertical-align: middle;\n",
       "    }\n",
       "\n",
       "    .dataframe tbody tr th {\n",
       "        vertical-align: top;\n",
       "    }\n",
       "\n",
       "    .dataframe thead th {\n",
       "        text-align: right;\n",
       "    }\n",
       "</style>\n",
       "<table border=\"1\" class=\"dataframe\">\n",
       "  <thead>\n",
       "    <tr style=\"text-align: right;\">\n",
       "      <th></th>\n",
       "      <th>GUIYDAIH</th>\n",
       "      <th>YNGYJIGO</th>\n",
       "      <th>level</th>\n",
       "    </tr>\n",
       "  </thead>\n",
       "  <tbody>\n",
       "    <tr>\n",
       "      <th>0</th>\n",
       "      <td>001041</td>\n",
       "      <td>601101</td>\n",
       "      <td>1</td>\n",
       "    </tr>\n",
       "    <tr>\n",
       "      <th>1</th>\n",
       "      <td>004053</td>\n",
       "      <td>601104</td>\n",
       "      <td>1</td>\n",
       "    </tr>\n",
       "    <tr>\n",
       "      <th>2</th>\n",
       "      <td>007020</td>\n",
       "      <td>601129</td>\n",
       "      <td>1</td>\n",
       "    </tr>\n",
       "    <tr>\n",
       "      <th>3</th>\n",
       "      <td>015005</td>\n",
       "      <td>601104</td>\n",
       "      <td>0</td>\n",
       "    </tr>\n",
       "    <tr>\n",
       "      <th>4</th>\n",
       "      <td>011024</td>\n",
       "      <td>601114</td>\n",
       "      <td>1</td>\n",
       "    </tr>\n",
       "  </tbody>\n",
       "</table>\n",
       "</div>"
      ],
      "text/plain": [
       "  GUIYDAIH  YNGYJIGO  level\n",
       "0   001041    601101      1\n",
       "1   004053    601104      1\n",
       "2   007020    601129      1\n",
       "3   015005    601104      0\n",
       "4   011024    601114      1"
      ]
     },
     "execution_count": 34,
     "metadata": {},
     "output_type": "execute_result"
    }
   ],
   "source": [
    "teller.head()"
   ]
  },
  {
   "cell_type": "code",
   "execution_count": 45,
   "metadata": {},
   "outputs": [],
   "source": [
    "def add_manage_rela(tx):\n",
    "    for line in teller.values.tolist():\n",
    "        if line[-1] == 1:\n",
    "            tx.run(\"MATCH (c:Cheif {{id: \\\"{}\\\" }}), (h:Hall {{ id:{} }}) merge (c)-[:manage]->(h)\".format(line[0],line[1]))\n",
    "            #print(\"MATCH (c:Cheif {{id: \\\"{}\\\" }}), (h:Hall {{ id: {} }}) merge (c)-[r:manage]->(h)\".format(line[0],line[1]))"
   ]
  },
  {
   "cell_type": "code",
   "execution_count": 46,
   "metadata": {},
   "outputs": [],
   "source": [
    "with driver.session() as session:\n",
    "    session.write_transaction(add_manage_rela)"
   ]
  },
  {
   "cell_type": "markdown",
   "metadata": {},
   "source": [
    "## add rule president can rule all the Hall"
   ]
  },
  {
   "cell_type": "code",
   "execution_count": 52,
   "metadata": {},
   "outputs": [],
   "source": [
    "def add_rule_rela(tx):\n",
    "    tx.run(\"MATCH (h:Hall),(p:President) merge (p)-[:rule]->(h)\")"
   ]
  },
  {
   "cell_type": "code",
   "execution_count": 53,
   "metadata": {},
   "outputs": [],
   "source": [
    "with driver.session() as session:\n",
    "    session.write_transaction(add_rule_rela)"
   ]
  },
  {
   "cell_type": "markdown",
   "metadata": {},
   "source": [
    "## add workIn relation"
   ]
  },
  {
   "cell_type": "code",
   "execution_count": 54,
   "metadata": {},
   "outputs": [],
   "source": [
    "def add_workIn_rela(tx):\n",
    "    tx.run(\"MATCH (h:Hall),(t:Teller) WHERE h.id = t.hall MERGE (t)-[:workIn]->(h)\")"
   ]
  },
  {
   "cell_type": "code",
   "execution_count": 55,
   "metadata": {},
   "outputs": [],
   "source": [
    "with driver.session() as session:\n",
    "    session.write_transaction(add_workIn_rela)"
   ]
  },
  {
   "cell_type": "code",
   "execution_count": null,
   "metadata": {},
   "outputs": [],
   "source": []
  }
 ],
 "metadata": {
  "kernelspec": {
   "display_name": "Python 3",
   "language": "python",
   "name": "python3"
  },
  "language_info": {
   "codemirror_mode": {
    "name": "ipython",
    "version": 3
   },
   "file_extension": ".py",
   "mimetype": "text/x-python",
   "name": "python",
   "nbconvert_exporter": "python",
   "pygments_lexer": "ipython3",
   "version": "3.7.3"
  }
 },
 "nbformat": 4,
 "nbformat_minor": 2
}
