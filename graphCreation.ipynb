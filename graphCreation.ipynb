{
 "cells": [
  {
   "cell_type": "code",
   "execution_count": 36,
   "metadata": {
    "collapsed": true,
    "pycharm": {
     "is_executing": false,
     "name": "#%%\n"
    }
   },
   "outputs": [],
   "source": [
    "import numpy as np\n",
    "import pandas as pd\n",
    "from neo4j import GraphDatabase\n",
    "from datetime import datetime\n",
    "\n",
    "driver = GraphDatabase.driver(\"bolt://localhost:7687\", auth=(\"neo4j\", \"neo4j123456\"))\n",
    "\n"
   ]
  },
  {
   "cell_type": "code",
   "execution_count": 37,
   "outputs": [],
   "source": [
    "# insert account data into neo4j\n",
    "# account = pd.read_csv('./data/account.csv')\n",
    "# def create_account(tx):\n",
    "#     for line in account.values.tolist():\n",
    "#         date = datetime.strptime(str(line[3]), '%y%m%d' )\n",
    "#         date = str(date).replace(\" \", \"T\")\n",
    "#         tx.run(\"CREATE (ac: account {{account_id : {}, district_id : {},  frequency : \\\"{}\\\", date: datetime(\\\"{}\\\") }})\".format(line[0], line[1], line[2], date))"
   ],
   "metadata": {
    "collapsed": false,
    "pycharm": {
     "name": "#%%\n",
     "is_executing": false
    }
   }
  },
  {
   "cell_type": "code",
   "execution_count": 38,
   "outputs": [],
   "source": [
    "# with driver.session() as session:\n",
    "#     session.write_transaction(create_account)"
   ],
   "metadata": {
    "collapsed": false,
    "pycharm": {
     "name": "#%%    \n",
     "is_executing": false
    }
   }
  },
  {
   "cell_type": "code",
   "execution_count": 39,
   "outputs": [],
   "source": [
    "# insert client data into neo4j\n",
    "# client = pd.read_csv('./data/client.csv')\n",
    "# def create_client(tx):\n",
    "#     for line in client.values.tolist():\n",
    "#         # process the birth_number with the rules:\n",
    "#         # the number is in the form YYMMDD for men,\n",
    "#         # the number is in the form YYMM+50DD for women\n",
    "#         birth = str(line[1])\n",
    "#         gender = 'M'\n",
    "#         month = birth[2:4]\n",
    "#         ### if the client is female\n",
    "#         if int(month) > 50 :\n",
    "#             gender = 'F'\n",
    "#             month = str(int(month) - 50)\n",
    "#             month = month.zfill(2)\n",
    "#         #print(birth)\n",
    "#         birth = \"\".join((birth[:2], month, birth[4:]))\n",
    "#         birth = \"19\" + birth\n",
    "#         #print(birth)\n",
    "#         tx.run(\"CREATE (cl: client {{client_id: {}, birthdate: date(\\\"{}\\\"), gender: \\\"{}\\\", district_id: {} }})\".format(line[0], birth, gender, line[2]))\n",
    "# \n",
    "# # with driver.session() as session:\n",
    "# #     session.write_transaction(create_client)  "
   ],
   "metadata": {
    "collapsed": false,
    "pycharm": {
     "name": "#%%\n",
     "is_executing": false
    }
   }
  },
  {
   "cell_type": "code",
   "execution_count": 40,
   "outputs": [],
   "source": [
    "def create_trans(tx):\n",
    "    tx.run(\"LOAD CSV WITH HEADERS FROM \\\"file:///transaction.csv\\\" AS line create (p:trans {trans_id:line.trans_id, date:line.date, type:line.type, amount: line.amount, balance: line.balance})\")\n",
    "\n",
    "with driver.session() as session:\n",
    "    session.write_transaction(create_trans)      \n",
    "    "
   ],
   "metadata": {
    "collapsed": false,
    "pycharm": {
     "name": "#%%\n",
     "is_executing": false
    }
   }
  },
  {
   "cell_type": "code",
   "execution_count": 41,
   "outputs": [],
   "source": [
    "def create_account(tx):\n",
    "    tx.run(\"LOAD CSV WITH HEADERS FROM \\\"file:///account.csv\\\" AS line create (ac:account {account_id:line.account_id, date:line.date, frequency:line.frequency})\")\n",
    "\n",
    "with driver.session() as session:\n",
    "    session.write_transaction(create_account)   "
   ],
   "metadata": {
    "collapsed": false,
    "pycharm": {
     "name": "#%%\n",
     "is_executing": false
    }
   }
  },
  {
   "cell_type": "code",
   "execution_count": 42,
   "outputs": [],
   "source": [
    "def create_client(tx):\n",
    "    tx.run(\"LOAD CSV WITH HEADERS FROM \\\"file:///client.csv\\\" AS line create (cl:client {client_id:line.client_id, birthdate:line.birth_number, gender:line.gender, age:line.age})\")\n",
    "\n",
    "with driver.session() as session:\n",
    "    session.write_transaction(create_client)   \n"
   ],
   "metadata": {
    "collapsed": false,
    "pycharm": {
     "name": "#%%\n",
     "is_executing": false
    }
   }
  },
  {
   "cell_type": "code",
   "execution_count": 43,
   "outputs": [],
   "source": [
    "def create_district(tx):\n",
    "    tx.run(\"LOAD CSV WITH HEADERS FROM \\\"file:///district.csv\\\" AS line create (dist:district {district_id:line.district_id, district_name:line.district_name, no_of_inhabitants:line.no_of_inhabitants, A5: line.A5, A6:line.A6, A7:line.A7, A8:line.A8, no_of_cities: line.no_of_cities, ratio_of_urban_inhabitants:line.ratio_of_urban_inhabitants, average_salary:line.average_salary, unemploymant_rate_95:line.unemploymant_rate_95, unemploymant_rate_96:line.unemploymant_rate_96, no_of_enterpreneurs_per1000inhabitants:line.no_of_enterpreneurs_per1000inhabitants, no_of_commited_crimes95:line.no_of_commited_crimes95, no_of_commited_crimes96:line.no_of_commited_crimes96})\")\n",
    "\n",
    "with driver.session() as session:\n",
    "    session.write_transaction(create_district)   "
   ],
   "metadata": {
    "collapsed": false,
    "pycharm": {
     "name": "#%%\n",
     "is_executing": false
    }
   }
  },
  {
   "cell_type": "code",
   "execution_count": 44,
   "outputs": [],
   "source": [
    "def create_region(tx):\n",
    "    tx.run(\"LOAD CSV WITH HEADERS FROM \\\"file:///district.csv\\\" AS line MERGE (reg:region {region:line.region})\")\n",
    "\n",
    "with driver.session() as session:\n",
    "    session.write_transaction(create_region)   "
   ],
   "metadata": {
    "collapsed": false,
    "pycharm": {
     "name": "#%%\n",
     "is_executing": false
    }
   }
  },
  {
   "cell_type": "code",
   "execution_count": 45,
   "outputs": [],
   "source": [
    "def create_loan(tx):\n",
    "    tx.run(\"LOAD CSV WITH HEADERS FROM \\\"file:///loan.csv\\\" AS line create (loan:loan {loan_id:line.loan_id, date:line.date, amount:line.amount, duration:line.duration, payments: line.payments, status:line.status})\")\n",
    "\n",
    "with driver.session() as session:\n",
    "    session.write_transaction(create_loan)   \n",
    "    "
   ],
   "metadata": {
    "collapsed": false,
    "pycharm": {
     "name": "#%%\n",
     "is_executing": false
    }
   }
  },
  {
   "cell_type": "markdown",
   "source": [
    "### create index on those properties which we need to match or merge\n",
    "##### CREATE INDEX ON :account(account_id)\n",
    "##### CREATE INDEX ON :district(district_id)\n",
    "##### CREATE INDEX ON :client(client_id)\n",
    "##### CREATE INDEX ON :trans(trans_id)\n",
    "##### CREATE INDEX ON :loan(loan_id)"
   ],
   "metadata": {
    "collapsed": false,
    "pycharm": {
     "name": "#%% md\n"
    }
   }
  },
  {
   "cell_type": "code",
   "execution_count": 46,
   "outputs": [],
   "source": [
    "def create_index_account_id(tx):\n",
    "    tx.run(\"CREATE INDEX ON :account(account_id)\")\n",
    "with driver.session() as session:\n",
    "    session.write_transaction(create_index_account_id)  "
   ],
   "metadata": {
    "collapsed": false,
    "pycharm": {
     "name": "#%%\n",
     "is_executing": false
    }
   }
  },
  {
   "cell_type": "code",
   "execution_count": 47,
   "outputs": [],
   "source": [
    "def create_index_dist_id(tx):\n",
    "    tx.run(\"CREATE INDEX ON :district(district_id)\")\n",
    "with driver.session() as session:\n",
    "    session.write_transaction(create_index_dist_id)"
   ],
   "metadata": {
    "collapsed": false,
    "pycharm": {
     "name": "#%%\n",
     "is_executing": false
    }
   }
  },
  {
   "cell_type": "code",
   "execution_count": 48,
   "outputs": [],
   "source": [
    "def create_index_client_id(tx):\n",
    "    tx.run(\"CREATE INDEX ON :client(client_id)\")\n",
    "with driver.session() as session:\n",
    "    session.write_transaction(create_index_client_id)"
   ],
   "metadata": {
    "collapsed": false,
    "pycharm": {
     "name": "#%%\n",
     "is_executing": false
    }
   }
  },
  {
   "cell_type": "code",
   "execution_count": 49,
   "outputs": [],
   "source": [
    "def create_index_trans_id(tx):\n",
    "    tx.run(\"CREATE INDEX ON :trans(trans_id)\")\n",
    "with driver.session() as session:\n",
    "    session.write_transaction(create_index_trans_id)"
   ],
   "metadata": {
    "collapsed": false,
    "pycharm": {
     "name": "#%%\n",
     "is_executing": false
    }
   }
  },
  {
   "cell_type": "code",
   "execution_count": 50,
   "outputs": [],
   "source": [
    "def create_index_loan_id(tx):\n",
    "    tx.run(\"CREATE INDEX ON :loan(loan_id)\")\n",
    "with driver.session() as session:\n",
    "    session.write_transaction(create_index_loan_id)"
   ],
   "metadata": {
    "collapsed": false,
    "pycharm": {
     "name": "#%%\n",
     "is_executing": false
    }
   }
  },
  {
   "cell_type": "markdown",
   "source": [
    "### relationships\n",
    "#### 1. account + district: district_id -> load account.csv file"
   ],
   "metadata": {
    "collapsed": false,
    "pycharm": {
     "name": "#%% md\n"
    }
   }
  },
  {
   "cell_type": "code",
   "execution_count": 51,
   "outputs": [],
   "source": [
    "def create_rel_acc_dist(tx):\n",
    "    tx.run(\"LOAD CSV WITH HEADERS FROM \\\"file:///account.csv\\\" AS row MATCH (acc:account {account_id: row.account_id}) MATCH (dist:district {district_id: row.district_id}) MERGE (acc)-[:BelongTo]->(dist)\")\n",
    "with driver.session() as session:\n",
    "    session.write_transaction(create_rel_acc_dist)  "
   ],
   "metadata": {
    "collapsed": false,
    "pycharm": {
     "name": "#%%\n",
     "is_executing": false
    }
   }
  },
  {
   "cell_type": "markdown",
   "source": [
    "### relationships\n",
    "#### 2. client_id -  [:BelongTo] - district_id"
   ],
   "metadata": {
    "collapsed": false
   }
  },
  {
   "cell_type": "code",
   "execution_count": 52,
   "outputs": [],
   "source": [
    "def create_rel_cli_dist(tx):\n",
    "    tx.run(\"LOAD CSV WITH HEADERS FROM \\\"file:///client.csv\\\" AS row MATCH (cl:client {client_id: row.client_id}) MATCH (dist:district {district_id: row.district_id}) MERGE (cl)-[:BelongTo]->(dist)\")\n",
    "with driver.session() as session:\n",
    "    session.write_transaction(create_rel_cli_dist)  "
   ],
   "metadata": {
    "collapsed": false,
    "pycharm": {
     "name": "#%%\n",
     "is_executing": false
    }
   }
  },
  {
   "cell_type": "markdown",
   "source": [
    "### relationships\n",
    "#### 3. account_id - [: made] - trans_id"
   ],
   "metadata": {
    "collapsed": false
   }
  },
  {
   "cell_type": "code",
   "execution_count": 53,
   "outputs": [],
   "source": [
    "def create_rel_acc_trans(tx):\n",
    "    tx.run(\"LOAD CSV WITH HEADERS FROM \\\"file:///transaction.csv\\\" AS row MATCH (acc:account {account_id: row.account_id}) MATCH (trans:trans {trans_id: row.trans_id}) MERGE (acc)-[:made]->(trans)\")\n",
    "with driver.session() as session:\n",
    "    session.write_transaction(create_rel_acc_trans) "
   ],
   "metadata": {
    "collapsed": false,
    "pycharm": {
     "name": "#%%\n",
     "is_executing": false
    }
   }
  },
  {
   "cell_type": "markdown",
   "source": [
    "### relationships\n",
    "### 4. loan_id -> account_id: account_id - [: made] - loan_id"
   ],
   "metadata": {
    "collapsed": false
   }
  },
  {
   "cell_type": "code",
   "execution_count": 54,
   "outputs": [],
   "source": [
    "def create_rel_acc_loan(tx):\n",
    "    tx.run(\"LOAD CSV WITH HEADERS FROM \\\"file:///loan.csv\\\" AS row MATCH (acc:account {account_id: row.account_id}) MATCH (loan:loan {loan_id: row.loan_id}) MERGE (acc)-[:made]->(loan)\")\n",
    "with driver.session() as session:\n",
    "    session.write_transaction(create_rel_acc_loan) "
   ],
   "metadata": {
    "collapsed": false,
    "pycharm": {
     "name": "#%%\n",
     "is_executing": false
    }
   }
  },
  {
   "cell_type": "markdown",
   "source": [
    "### relationships\n",
    "### 5. district_id -> region: district_id - [: Belongto] - region"
   ],
   "metadata": {
    "collapsed": false,
    "pycharm": {
     "name": "#%% md\n"
    }
   }
  },
  {
   "cell_type": "code",
   "execution_count": 55,
   "outputs": [],
   "source": [
    "def create_rel_dist_region(tx):\n",
    "    tx.run(\"LOAD CSV WITH HEADERS FROM \\\"file:///district.csv\\\" AS row MATCH (dist:district {district_id: row.district_id}) MATCH (reg:region {region: row.region}) MERGE (dist)-[:BelongTo]->(reg)\")\n",
    "with driver.session() as session:\n",
    "    session.write_transaction(create_rel_dist_region) "
   ],
   "metadata": {
    "collapsed": false,
    "pycharm": {
     "name": "#%%\n",
     "is_executing": false
    }
   }
  },
  {
   "cell_type": "markdown",
   "source": [
    "### relationships\n",
    "### 6. client_id - [: hold] - account_id (load from disp.csv)"
   ],
   "metadata": {
    "collapsed": false
   }
  },
  {
   "cell_type": "code",
   "execution_count": 56,
   "outputs": [],
   "source": [
    "def create_rel_client_acc(tx):\n",
    "    tx.run(\"LOAD CSV WITH HEADERS FROM \\\"file:///disp.csv\\\" AS row MATCH (client:client {client_id: row.client_id}) MATCH (acc:account {account_id: row.account_id}) MERGE (client)-[rel:hold]->(acc) ON CREATE SET rel.type = row.type\")\n",
    "with driver.session() as session:\n",
    "    session.write_transaction(create_rel_client_acc) "
   ],
   "metadata": {
    "collapsed": false,
    "pycharm": {
     "name": "#%%\n",
     "is_executing": false
    }
   }
  }
 ],
 "metadata": {
  "kernelspec": {
   "display_name": "Python 3",
   "language": "python",
   "name": "python3"
  },
  "language_info": {
   "codemirror_mode": {
    "name": "ipython",
    "version": 2
   },
   "file_extension": ".py",
   "mimetype": "text/x-python",
   "name": "python",
   "nbconvert_exporter": "python",
   "pygments_lexer": "ipython2",
   "version": "2.7.6"
  },
  "pycharm": {
   "stem_cell": {
    "cell_type": "raw",
    "source": [],
    "metadata": {
     "collapsed": false
    }
   }
  }
 },
 "nbformat": 4,
 "nbformat_minor": 0
}